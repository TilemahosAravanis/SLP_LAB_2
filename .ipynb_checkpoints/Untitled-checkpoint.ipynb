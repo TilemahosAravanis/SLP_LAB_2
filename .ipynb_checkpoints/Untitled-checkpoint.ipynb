{
 "cells": [
  {
   "cell_type": "code",
   "execution_count": 1,
   "id": "9d6a8aa7",
   "metadata": {},
   "outputs": [],
   "source": [
    "# Essential imports\n",
    "\n",
    "import string"
   ]
  },
  {
   "cell_type": "markdown",
   "id": "871f38fc",
   "metadata": {},
   "source": [
    "**Preparation**"
   ]
  },
  {
   "cell_type": "code",
   "execution_count": 2,
   "id": "6fd03bda",
   "metadata": {},
   "outputs": [],
   "source": [
    "# Extract data file\n",
    "\n",
    "# import tarfile\n",
    "\n",
    "# with tarfile.open(\"./usc.tgz\", \"r\") as tf:\n",
    "#    i=0\n",
    "#    for member in tf.getmembers():\n",
    "#        tf.extract(member=member, path=\"./\")"
   ]
  },
  {
   "cell_type": "code",
   "execution_count": 3,
   "id": "be008fed",
   "metadata": {},
   "outputs": [],
   "source": [
    "!cp ./usc/filesets/training.txt ./data/train/train_uttids.txt\n",
    "!cp ./usc/filesets/testing.txt ./data/test/test_uttids.txt\n",
    "!cp ./usc/filesets/validation.txt ./data/dev/val_uttids.txt"
   ]
  },
  {
   "cell_type": "code",
   "execution_count": 4,
   "id": "9b96beed",
   "metadata": {},
   "outputs": [],
   "source": [
    "# Utt2spk"
   ]
  },
  {
   "cell_type": "code",
   "execution_count": 5,
   "id": "5882b4a9",
   "metadata": {},
   "outputs": [],
   "source": [
    "with open(\"./data/train/train_utt2spk.txt\",'w') as f:\n",
    "    with open('./data/train/train_uttids.txt') as file:\n",
    "        # reading each line   \n",
    "        for line in file:\n",
    "            # reading each word       \n",
    "            for word in line.split():\n",
    "                f.write(\"{} {}\\n\".format(line[0:6],line[0:2]))       "
   ]
  },
  {
   "cell_type": "code",
   "execution_count": 6,
   "id": "61e5cc57",
   "metadata": {},
   "outputs": [],
   "source": [
    "with open(\"./data/test/test_utt2spk.txt\",'w') as f:\n",
    "    with open('./data/test/test_uttids.txt') as file:\n",
    "        # reading each line   \n",
    "        for line in file:\n",
    "            # reading each word       \n",
    "            for word in line.split():\n",
    "                f.write(\"{} {}\\n\".format(line[0:6],line[0:2]))    "
   ]
  },
  {
   "cell_type": "code",
   "execution_count": 7,
   "id": "75081b31",
   "metadata": {},
   "outputs": [],
   "source": [
    "with open(\"./data/dev/val_utt2spk.txt\",'w') as f:\n",
    "    with open('./data/dev/val_uttids.txt') as file:\n",
    "        # reading each line   \n",
    "        for line in file:\n",
    "            # reading each word       \n",
    "            for word in line.split():\n",
    "                f.write(\"{} {}\\n\".format(line[0:6],line[0:2]))    "
   ]
  },
  {
   "cell_type": "code",
   "execution_count": 8,
   "id": "139e3542",
   "metadata": {},
   "outputs": [],
   "source": [
    "# wav.scp"
   ]
  },
  {
   "cell_type": "code",
   "execution_count": 9,
   "id": "14e303cb",
   "metadata": {},
   "outputs": [],
   "source": [
    "with open(\"./data/train/train_wav.scp\",'w') as f:\n",
    "    with open('./data/train/train_uttids.txt') as file:\n",
    "        # reading each line   \n",
    "        for line in file:\n",
    "            # reading each word       \n",
    "            for word in line.split():\n",
    "                f.write(\"{} ./usc/wav/{}.wav\\n\".format(line[0:6],line[0:6]))  "
   ]
  },
  {
   "cell_type": "code",
   "execution_count": 10,
   "id": "f7a6f0ba",
   "metadata": {},
   "outputs": [],
   "source": [
    "with open(\"./data/test/test_wav.scp\",'w') as f:\n",
    "    with open('./data/test/test_uttids.txt') as file:\n",
    "        # reading each line   \n",
    "        for line in file:\n",
    "            # reading each word       \n",
    "            for word in line.split():\n",
    "                f.write(\"{} ./usc/wav/{}.wav\\n\".format(line[0:6],line[0:6]))  "
   ]
  },
  {
   "cell_type": "code",
   "execution_count": 11,
   "id": "1056e364",
   "metadata": {},
   "outputs": [],
   "source": [
    "with open(\"./data/dev/val_wav.scp\",'w') as f:\n",
    "    with open('./data/dev/val_uttids.txt') as file:\n",
    "        # reading each line   \n",
    "        for line in file:\n",
    "            # reading each word       \n",
    "            for word in line.split():\n",
    "                f.write(\"{} ./usc/wav/{}.wav\\n\".format(line[0:6],line[0:6]))  "
   ]
  },
  {
   "cell_type": "code",
   "execution_count": 12,
   "id": "ac956f03",
   "metadata": {},
   "outputs": [],
   "source": [
    "# Text"
   ]
  },
  {
   "cell_type": "code",
   "execution_count": 13,
   "id": "f508fea5",
   "metadata": {},
   "outputs": [],
   "source": [
    "def remove_punctuation(text,punct_list):\n",
    "    for punc in punct_list:\n",
    "        if punc in text:\n",
    "            text = text.replace(punc, ' ')\n",
    "    return text.strip()\n",
    "\n",
    "\n",
    "s = string.punctuation\n",
    "punct_list = s.replace(\"'\",\"\")"
   ]
  },
  {
   "cell_type": "code",
   "execution_count": 14,
   "id": "cd52f01f",
   "metadata": {},
   "outputs": [],
   "source": [
    "with open(\"./data/train/train_text.txt\",'w') as f:\n",
    "        with open('./data/train/train_uttids.txt') as file:\n",
    "            # reading each uttid\n",
    "            for uttid in file:\n",
    "                # reading each transcription\n",
    "                with open(\"./usc/transcriptions.txt\") as g:\n",
    "                    for line in g:       \n",
    "                        num = line[0:3]\n",
    "                        text = line[4:-1]\n",
    "                        text = remove_punctuation(text,punct_list)\n",
    "                        if num == uttid[3:6]:\n",
    "                            f.write(\"{} {}\\n\".format(uttid[0:6],text.lower()))\n",
    "                            break"
   ]
  },
  {
   "cell_type": "code",
   "execution_count": 15,
   "id": "244094b4",
   "metadata": {},
   "outputs": [],
   "source": [
    "with open(\"./data/test/test_text.txt\",'w') as f:\n",
    "        with open('./data/test/test_uttids.txt') as file:\n",
    "            # reading each uttid\n",
    "            for uttid in file:\n",
    "                # reading each transcription\n",
    "                with open(\"./usc/transcriptions.txt\") as g:\n",
    "                    for line in g:       \n",
    "                        num = line[0:3]\n",
    "                        text = line[4:-1]\n",
    "                        text = remove_punctuation(text,punct_list)\n",
    "                        if num == uttid[3:6]:\n",
    "                            f.write(\"{} {}\\n\".format(uttid[0:6],text.lower()))\n",
    "                            break"
   ]
  },
  {
   "cell_type": "code",
   "execution_count": 16,
   "id": "a61e1f79",
   "metadata": {},
   "outputs": [],
   "source": [
    "with open(\"./data/dev/val_text.txt\",'w') as f:\n",
    "        with open('./data/dev/val_uttids.txt') as file:\n",
    "            # reading each uttid\n",
    "            for uttid in file:\n",
    "                # reading each transcription\n",
    "                with open(\"./usc/transcriptions.txt\") as g:\n",
    "                    for line in g:       \n",
    "                        num = line[0:3]\n",
    "                        text = line[4:-1]\n",
    "                        text = remove_punctuation(text,punct_list)\n",
    "                        if num == uttid[3:6]:\n",
    "                            f.write(\"{} {}\\n\".format(uttid[0:6],text.lower()))\n",
    "                            break"
   ]
  },
  {
   "cell_type": "code",
   "execution_count": 17,
   "id": "5229b252",
   "metadata": {},
   "outputs": [],
   "source": [
    "# Words --> phonemes"
   ]
  },
  {
   "cell_type": "code",
   "execution_count": 18,
   "id": "ca9dbfb1",
   "metadata": {},
   "outputs": [],
   "source": [
    "Dict = {}\n",
    "with open('./usc/lexicon.txt', 'r') as file:\n",
    "    for line in file:\n",
    "        word = line.split()[0].lower()\n",
    "        phon = ''\n",
    "        for words in line.split()[1:-1]:\n",
    "            phon = phon + str(\"{} \".format(words)) \n",
    "        phon = phon + str(\"{}\".format(line.split()[-1])) \n",
    "        Dict[word] = phon"
   ]
  },
  {
   "cell_type": "code",
   "execution_count": 19,
   "id": "ff8d3716",
   "metadata": {},
   "outputs": [],
   "source": [
    "with open(\"./data/dev/val_text2.txt\",'w') as out_f:\n",
    "        with open('./data/dev/val_text.txt','r') as f:\n",
    "            for line in f:\n",
    "                words = line.split()\n",
    "                out_f.write(words[0])\n",
    "                out_f.write(' sil ')\n",
    "                for word in words[1:]:\n",
    "                    out_f.write(\"{} \".format(Dict[word]))\n",
    "                out_f.write('sil\\n')\n",
    "                    "
   ]
  },
  {
   "cell_type": "code",
   "execution_count": 20,
   "id": "abbfe862",
   "metadata": {},
   "outputs": [],
   "source": [
    "with open(\"./data/train/train_text2.txt\",'w') as out_f:\n",
    "        with open('./data/train/train_text.txt','r') as f:\n",
    "            for line in f:\n",
    "                words = line.split()\n",
    "                out_f.write(words[0])\n",
    "                out_f.write(' sil ')\n",
    "                for word in words[1:]:\n",
    "                    out_f.write(\"{} \".format(Dict[word]))\n",
    "                out_f.write('sil\\n')\n",
    "                    "
   ]
  },
  {
   "cell_type": "code",
   "execution_count": 21,
   "id": "94de5e25",
   "metadata": {},
   "outputs": [],
   "source": [
    "with open(\"./data/test/test_text2.txt\",'w') as out_f:\n",
    "        with open('./data/test/test_text.txt','r') as f:\n",
    "            for line in f:\n",
    "                words = line.split()\n",
    "                out_f.write(words[0])\n",
    "                out_f.write(' sil ')\n",
    "                for word in words[1:]:\n",
    "                    out_f.write(\"{} \".format(Dict[word]))\n",
    "                out_f.write('sil\\n')\n",
    "                    "
   ]
  },
  {
   "cell_type": "markdown",
   "id": "9a6d0348",
   "metadata": {},
   "source": [
    "**Main Part**"
   ]
  },
  {
   "cell_type": "code",
   "execution_count": 22,
   "id": "f3d8a239",
   "metadata": {},
   "outputs": [
    {
     "name": "stdout",
     "output_type": "stream",
     "text": [
      "The standard file /home/anthi/lupyter/kaldi/tools/config/common_path.sh is not present -> Exit!\n",
      "ln: failed to create symbolic link 'steps': File exists\n",
      "ln: failed to create symbolic link 'utils': File exists\n",
      "mkdir: cannot create directory ‘./local’: File exists\n",
      "ln: failed to access '/home/tilemahos/Desktop/SLP_LAB/kaldi/egs/wsj/s5/steps/score_kaldi.sh': No such file or directory\n",
      "mkdir: cannot create directory ‘./conf’: File exists\n",
      "mkdir: cannot create directory ‘./data/local’: File exists\n",
      "mkdir: cannot create directory ‘./data/local/dict’: File exists\n",
      "total 44\n",
      "-rw-rw-r-- 1 anthi anthi  1318 Μαΐ  16 23:39 cmd.sh\n",
      "drwxrwxr-x 2 anthi anthi  4096 Μαΐ  16 23:39 conf\n",
      "drwxrwxr-x 7 anthi anthi  4096 Μαΐ  17 01:12 data\n",
      "drwxrwxr-x 2 anthi anthi  4096 Μαΐ  16 23:39 local\n",
      "-rwxrwxr-x 1 anthi anthi   410 Μαΐ  17 01:10 path.sh\n",
      "lrwxrwxrwx 1 anthi anthi    54 Μαΐ  16 23:39 steps -> /home/tilemahos/Desktop/SLP_LAB/kaldi/egs/wsj/s5/steps\n",
      "-rw-rw-r-- 1 anthi anthi 16468 Μαΐ  16 23:39 Untitled.ipynb\n",
      "drwxrwxr-x 4 anthi anthi  4096 Μαΐ  17 01:03 usc\n",
      "lrwxrwxrwx 1 anthi anthi    54 Μαΐ  16 23:39 utils -> /home/tilemahos/Desktop/SLP_LAB/kaldi/egs/wsj/s5/utils\n"
     ]
    }
   ],
   "source": [
    "# 4.1\n",
    "\n",
    "!source ./path.sh\n",
    "\n",
    "# soft links\n",
    "!ln -s /home/tilemahos/Desktop/SLP_LAB/kaldi/egs/wsj/s5/steps steps\n",
    "!ln -s /home/tilemahos/Desktop/SLP_LAB/kaldi/egs/wsj/s5/utils utils\n",
    "\n",
    "!mkdir ./local\n",
    "!ln /home/tilemahos/Desktop/SLP_LAB/kaldi/egs/wsj/s5/steps/score_kaldi.sh ./local/score_kaldi.sh\n",
    "\n",
    "!mkdir ./conf\n",
    "!touch ./conf/mfcc.conf\n",
    "\n",
    "!mkdir ./data/lang\n",
    "!mkdir ./data/local\n",
    "!mkdir ./data/local/dict\n",
    "!mkdir ./data/local/lm_tmp\n",
    "!mkdir ./data/local/nist_lm\n",
    "\n",
    "!ls -l"
   ]
  },
  {
   "cell_type": "code",
   "execution_count": 23,
   "id": "ce368782",
   "metadata": {},
   "outputs": [],
   "source": [
    "# 4.2.1\n",
    "\n",
    "with open(\"./data/local/dict/silence_phones.txt \",'w') as f:\n",
    "    f.write('sil\\n')\n",
    "    \n",
    "with open(\"./data/local/dict/optional_silence.txt \",'w') as f:\n",
    "    f.write('sil\\n')\n",
    "\n",
    "s = set()\n",
    "with open(\"./data/local/dict/nonsilence_phones.txt\",'w') as f:\n",
    "    with open('./usc/lexicon.txt', 'r') as file:\n",
    "        # reading each line   \n",
    "        for line in file:\n",
    "            # reading each word       \n",
    "            for word in line.split()[1:]:\n",
    "                if word not in s:\n",
    "                    s.add(word)\n",
    "        s.remove('sil')\n",
    "        l = list(s)\n",
    "        l.sort()\n",
    "        for phoneme in l:\n",
    "            f.write('{}\\n'.format(phoneme))\n",
    "\n",
    "with open(\"./data/local/dict/lexicon.txt\",'w') as f:\n",
    "    with open(\"./data/local/dict/nonsilence_phones.txt\",'r') as file:\n",
    "        # reading each line\n",
    "        for line in file:\n",
    "            # reading each word       \n",
    "            for word in line.split():\n",
    "                f.write('{} {}\\n'.format(word,word))\n",
    "        f.write('sil sil\\n')\n",
    "\n",
    "\n",
    "with open(\"./data/local/dict/lm_train.text\",'w') as out_f:\n",
    "    with open(\"./data/train/train_text2.txt\",'r') as f:\n",
    "        # reading each line\n",
    "        for line in f:\n",
    "            l = line.split()\n",
    "            out_f.write('{}'.format(l[0])) \n",
    "            out_f.write(' <s>') \n",
    "            for word in l[1:]:\n",
    "                out_f.write(' {}'.format(word))\n",
    "            out_f.write(' </s>\\n') \n",
    "            \n",
    "with open(\"./data/local/dict/lm_test.text\",'w') as out_f:\n",
    "    with open(\"./data/test/test_text2.txt\",'r') as f:\n",
    "        # reading each line\n",
    "        for line in f:\n",
    "            l = line.split()\n",
    "            out_f.write('{}'.format(l[0])) \n",
    "            out_f.write(' <s>') \n",
    "            for word in l[1:]:\n",
    "                out_f.write(' {}'.format(word))\n",
    "            out_f.write(' </s>\\n') \n",
    "            \n",
    "with open(\"./data/local/dict/lm_val.text\",'w') as out_f:\n",
    "    with open(\"./data/dev/val_text2.txt\",'r') as f:\n",
    "        # reading each line\n",
    "        for line in f:\n",
    "            l = line.split()\n",
    "            out_f.write('{}'.format(l[0])) \n",
    "            out_f.write(' <s>') \n",
    "            for word in l[1:]:\n",
    "                out_f.write(' {}'.format(word))\n",
    "            out_f.write(' </s>\\n') \n",
    "            \n",
    "!touch ./data/local/dict/extra_questions.txt"
   ]
  },
  {
   "cell_type": "code",
   "execution_count": 24,
   "id": "68a79291",
   "metadata": {},
   "outputs": [],
   "source": [
    "# 4.2.2"
   ]
  },
  {
   "cell_type": "code",
   "execution_count": null,
   "id": "a5ca2e57",
   "metadata": {},
   "outputs": [],
   "source": [
    "!"
   ]
  },
  {
   "cell_type": "code",
   "execution_count": null,
   "id": "ed073d59",
   "metadata": {},
   "outputs": [],
   "source": []
  }
 ],
 "metadata": {
  "kernelspec": {
   "display_name": "Python 3 (ipykernel)",
   "language": "python",
   "name": "python3"
  },
  "language_info": {
   "codemirror_mode": {
    "name": "ipython",
    "version": 3
   },
   "file_extension": ".py",
   "mimetype": "text/x-python",
   "name": "python",
   "nbconvert_exporter": "python",
   "pygments_lexer": "ipython3",
   "version": "3.8.10"
  }
 },
 "nbformat": 4,
 "nbformat_minor": 5
}
